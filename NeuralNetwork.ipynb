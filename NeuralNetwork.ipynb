{
  "nbformat": 4,
  "nbformat_minor": 0,
  "metadata": {
    "colab": {
      "name": "NeuralNetwork.ipynb",
      "provenance": [],
      "collapsed_sections": [],
      "authorship_tag": "ABX9TyOdfA7lRVqrDnIo3oMwFadw",
      "include_colab_link": true
    },
    "kernelspec": {
      "name": "python3",
      "display_name": "Python 3"
    }
  },
  "cells": [
    {
      "cell_type": "markdown",
      "metadata": {
        "id": "view-in-github",
        "colab_type": "text"
      },
      "source": [
        "<a href=\"https://colab.research.google.com/github/AnkitaSinha98/DeepLearningProgram/blob/main/NeuralNetwork.ipynb\" target=\"_parent\"><img src=\"https://colab.research.google.com/assets/colab-badge.svg\" alt=\"Open In Colab\"/></a>"
      ]
    },
    {
      "cell_type": "markdown",
      "metadata": {
        "id": "lGkUWnI_8c-Y"
      },
      "source": [
        "# Basic 2 Layer Neural Network "
      ]
    },
    {
      "cell_type": "code",
      "metadata": {
        "id": "auQ8Ik6epAFK"
      },
      "source": [
        "import numpy as np"
      ],
      "execution_count": null,
      "outputs": []
    },
    {
      "cell_type": "markdown",
      "metadata": {
        "id": "kILkKSZb8m-o"
      },
      "source": [
        ""
      ]
    },
    {
      "cell_type": "code",
      "metadata": {
        "id": "nZCtaYKOp-D6"
      },
      "source": [
        "#sigmoid function: 1/(1+e^(-x)) with derivation\r\n",
        "def nonlin(x,deriv=False):\r\n",
        "    if(deriv==True):\r\n",
        "        return x*(1-x)\r\n",
        "    return 1/(1+np.exp(-x))"
      ],
      "execution_count": null,
      "outputs": []
    },
    {
      "cell_type": "code",
      "metadata": {
        "id": "CKS7CpQFqjgq"
      },
      "source": [
        "#input data (training)\r\n",
        "X = np.array([  [0,0,1],\r\n",
        "                [0,1,1],\r\n",
        "                [1,0,1],\r\n",
        "                [1,1,1] ])"
      ],
      "execution_count": null,
      "outputs": []
    },
    {
      "cell_type": "code",
      "metadata": {
        "id": "VRSD9qG7qjtx"
      },
      "source": [
        "#output data (target)\r\n",
        "y = np.array([[0,0,1,1]]).T"
      ],
      "execution_count": null,
      "outputs": []
    },
    {
      "cell_type": "code",
      "metadata": {
        "id": "aCRgrsSarJ-Q"
      },
      "source": [
        "#seed random numbers to make calculation\r\n",
        "np.random.seed(1)"
      ],
      "execution_count": null,
      "outputs": []
    },
    {
      "cell_type": "code",
      "metadata": {
        "id": "StFEs-SArVUc"
      },
      "source": [
        "#Weight Martix\r\n",
        "#initialize weights randomly with mean 0\r\n",
        "syn0 = 2*np.random.random((3,1)) -1  #synapse zero() matix"
      ],
      "execution_count": null,
      "outputs": []
    },
    {
      "cell_type": "code",
      "metadata": {
        "id": "JsiXtaI8rgAe",
        "colab": {
          "base_uri": "https://localhost:8080/"
        },
        "outputId": "7f8c64fe-85bc-4568-adbf-5447ee036366"
      },
      "source": [
        "#Calculating l1_delta by using Error Weighted Derivative  \r\n",
        "\r\n",
        "for itr in range(1000):\r\n",
        "    #forward propagation through layer 0\r\n",
        "    #First Layer of the Network, specified by the input data\r\n",
        "    l0 = X   \r\n",
        "\r\n",
        "    #Second Layer of the Network, otherwise known as the hidden layer\r\n",
        "    l1 = nonlin(np.dot(l0,syn0)) \r\n",
        "    \r\n",
        "    #finding missing value\r\n",
        "    l1_error = y - l1\r\n",
        "    \r\n",
        "    #By multiplying the l1_error by the slope of sigmoid at the value l1\r\n",
        "    l1_delta = l1_error * nonlin(l1,True)\r\n",
        "    \r\n",
        "    #First layer of weights, Synapse 0, connecting l0 to l1.\r\n",
        "    #updated weights\r\n",
        "    syn0 += np.dot(l0.T,l1_delta)\r\n",
        "    \r\n",
        "print(\"Output after training\")\r\n",
        "print(l1)"
      ],
      "execution_count": null,
      "outputs": [
        {
          "output_type": "stream",
          "text": [
            "Output after training\n",
            "[[0.03178421]\n",
            " [0.02576499]\n",
            " [0.97906682]\n",
            " [0.97414645]]\n"
          ],
          "name": "stdout"
        }
      ]
    }
  ]
}
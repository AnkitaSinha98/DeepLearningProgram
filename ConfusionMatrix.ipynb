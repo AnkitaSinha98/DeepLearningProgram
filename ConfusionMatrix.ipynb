{
  "nbformat": 4,
  "nbformat_minor": 0,
  "metadata": {
    "colab": {
      "name": "ConfusionMatrix.ipynb",
      "provenance": [],
      "authorship_tag": "ABX9TyPLAUtxSjXiRmoUP1iA0D5H",
      "include_colab_link": true
    },
    "kernelspec": {
      "name": "python3",
      "display_name": "Python 3"
    }
  },
  "cells": [
    {
      "cell_type": "markdown",
      "metadata": {
        "id": "view-in-github",
        "colab_type": "text"
      },
      "source": [
        "<a href=\"https://colab.research.google.com/github/AnkitaSinha98/DeepLearningProgram/blob/main/ConfusionMatrix.ipynb\" target=\"_parent\"><img src=\"https://colab.research.google.com/assets/colab-badge.svg\" alt=\"Open In Colab\"/></a>"
      ]
    },
    {
      "cell_type": "markdown",
      "metadata": {
        "id": "NPTw9PllPztU"
      },
      "source": [
        "# Confusion Matrix using Dataset\r\n",
        "ANKITA SINHA\r\n",
        "20MCI0003"
      ]
    },
    {
      "cell_type": "code",
      "metadata": {
        "id": "O9xltZqSK87M"
      },
      "source": [
        "import pandas as pd\r\n",
        "import numpy as np\r\n",
        "from google.colab import drive"
      ],
      "execution_count": null,
      "outputs": []
    },
    {
      "cell_type": "code",
      "metadata": {
        "colab": {
          "base_uri": "https://localhost:8080/"
        },
        "id": "GhFtopWMLmxu",
        "outputId": "15938173-ced2-40a8-9493-5ed9793beef8"
      },
      "source": [
        "drive.mount('/content/drive')"
      ],
      "execution_count": null,
      "outputs": [
        {
          "output_type": "stream",
          "text": [
            "Mounted at /content/drive\n"
          ],
          "name": "stdout"
        }
      ]
    },
    {
      "cell_type": "code",
      "metadata": {
        "id": "OubLHNFlLnjb"
      },
      "source": [
        "file_path = '/content/drive/My Drive/Colab Notebooks/dataset.csv'"
      ],
      "execution_count": null,
      "outputs": []
    },
    {
      "cell_type": "code",
      "metadata": {
        "colab": {
          "base_uri": "https://localhost:8080/",
          "height": 343
        },
        "id": "3FHu-iDsLtMl",
        "outputId": "d4b5ce36-c034-47c8-d668-e885b171ba4a"
      },
      "source": [
        "data = pd.read_csv(file_path)\r\n",
        "data.head(10)\r\n"
      ],
      "execution_count": null,
      "outputs": [
        {
          "output_type": "execute_result",
          "data": {
            "text/html": [
              "<div>\n",
              "<style scoped>\n",
              "    .dataframe tbody tr th:only-of-type {\n",
              "        vertical-align: middle;\n",
              "    }\n",
              "\n",
              "    .dataframe tbody tr th {\n",
              "        vertical-align: top;\n",
              "    }\n",
              "\n",
              "    .dataframe thead th {\n",
              "        text-align: right;\n",
              "    }\n",
              "</style>\n",
              "<table border=\"1\" class=\"dataframe\">\n",
              "  <thead>\n",
              "    <tr style=\"text-align: right;\">\n",
              "      <th></th>\n",
              "      <th>y_act</th>\n",
              "      <th>y_pred_random_forest</th>\n",
              "      <th>y_pred_logistic</th>\n",
              "    </tr>\n",
              "  </thead>\n",
              "  <tbody>\n",
              "    <tr>\n",
              "      <th>0</th>\n",
              "      <td>1</td>\n",
              "      <td>0.639816</td>\n",
              "      <td>0.531904</td>\n",
              "    </tr>\n",
              "    <tr>\n",
              "      <th>1</th>\n",
              "      <td>0</td>\n",
              "      <td>0.490993</td>\n",
              "      <td>0.414496</td>\n",
              "    </tr>\n",
              "    <tr>\n",
              "      <th>2</th>\n",
              "      <td>1</td>\n",
              "      <td>0.623815</td>\n",
              "      <td>0.569883</td>\n",
              "    </tr>\n",
              "    <tr>\n",
              "      <th>3</th>\n",
              "      <td>1</td>\n",
              "      <td>0.506616</td>\n",
              "      <td>0.443674</td>\n",
              "    </tr>\n",
              "    <tr>\n",
              "      <th>4</th>\n",
              "      <td>0</td>\n",
              "      <td>0.418302</td>\n",
              "      <td>0.369532</td>\n",
              "    </tr>\n",
              "    <tr>\n",
              "      <th>5</th>\n",
              "      <td>0</td>\n",
              "      <td>0.540665</td>\n",
              "      <td>0.582447</td>\n",
              "    </tr>\n",
              "    <tr>\n",
              "      <th>6</th>\n",
              "      <td>0</td>\n",
              "      <td>0.333361</td>\n",
              "      <td>0.376542</td>\n",
              "    </tr>\n",
              "    <tr>\n",
              "      <th>7</th>\n",
              "      <td>0</td>\n",
              "      <td>0.309166</td>\n",
              "      <td>0.287872</td>\n",
              "    </tr>\n",
              "    <tr>\n",
              "      <th>8</th>\n",
              "      <td>0</td>\n",
              "      <td>0.532531</td>\n",
              "      <td>0.524141</td>\n",
              "    </tr>\n",
              "    <tr>\n",
              "      <th>9</th>\n",
              "      <td>0</td>\n",
              "      <td>0.423434</td>\n",
              "      <td>0.435693</td>\n",
              "    </tr>\n",
              "  </tbody>\n",
              "</table>\n",
              "</div>"
            ],
            "text/plain": [
              "   y_act  y_pred_random_forest  y_pred_logistic\n",
              "0      1              0.639816         0.531904\n",
              "1      0              0.490993         0.414496\n",
              "2      1              0.623815         0.569883\n",
              "3      1              0.506616         0.443674\n",
              "4      0              0.418302         0.369532\n",
              "5      0              0.540665         0.582447\n",
              "6      0              0.333361         0.376542\n",
              "7      0              0.309166         0.287872\n",
              "8      0              0.532531         0.524141\n",
              "9      0              0.423434         0.435693"
            ]
          },
          "metadata": {
            "tags": []
          },
          "execution_count": 4
        }
      ]
    },
    {
      "cell_type": "code",
      "metadata": {
        "colab": {
          "base_uri": "https://localhost:8080/",
          "height": 343
        },
        "id": "gUqkTUMVLw77",
        "outputId": "4cc573a5-b869-4449-e9e1-2df67bedb378"
      },
      "source": [
        "thresh = 0.4\r\n",
        "\r\n",
        "data['y_pred_rf'] = (data.y_pred_random_forest >= 0.4).astype('int')\r\n",
        "data['y_pred_lr'] = (data.y_pred_logistic >= 0.4).astype('int')\r\n",
        "\r\n",
        "data.head(10)"
      ],
      "execution_count": null,
      "outputs": [
        {
          "output_type": "execute_result",
          "data": {
            "text/html": [
              "<div>\n",
              "<style scoped>\n",
              "    .dataframe tbody tr th:only-of-type {\n",
              "        vertical-align: middle;\n",
              "    }\n",
              "\n",
              "    .dataframe tbody tr th {\n",
              "        vertical-align: top;\n",
              "    }\n",
              "\n",
              "    .dataframe thead th {\n",
              "        text-align: right;\n",
              "    }\n",
              "</style>\n",
              "<table border=\"1\" class=\"dataframe\">\n",
              "  <thead>\n",
              "    <tr style=\"text-align: right;\">\n",
              "      <th></th>\n",
              "      <th>y_act</th>\n",
              "      <th>y_pred_random_forest</th>\n",
              "      <th>y_pred_logistic</th>\n",
              "      <th>y_pred_rf</th>\n",
              "      <th>y_pred_lr</th>\n",
              "    </tr>\n",
              "  </thead>\n",
              "  <tbody>\n",
              "    <tr>\n",
              "      <th>0</th>\n",
              "      <td>1</td>\n",
              "      <td>0.639816</td>\n",
              "      <td>0.531904</td>\n",
              "      <td>1</td>\n",
              "      <td>1</td>\n",
              "    </tr>\n",
              "    <tr>\n",
              "      <th>1</th>\n",
              "      <td>0</td>\n",
              "      <td>0.490993</td>\n",
              "      <td>0.414496</td>\n",
              "      <td>1</td>\n",
              "      <td>1</td>\n",
              "    </tr>\n",
              "    <tr>\n",
              "      <th>2</th>\n",
              "      <td>1</td>\n",
              "      <td>0.623815</td>\n",
              "      <td>0.569883</td>\n",
              "      <td>1</td>\n",
              "      <td>1</td>\n",
              "    </tr>\n",
              "    <tr>\n",
              "      <th>3</th>\n",
              "      <td>1</td>\n",
              "      <td>0.506616</td>\n",
              "      <td>0.443674</td>\n",
              "      <td>1</td>\n",
              "      <td>1</td>\n",
              "    </tr>\n",
              "    <tr>\n",
              "      <th>4</th>\n",
              "      <td>0</td>\n",
              "      <td>0.418302</td>\n",
              "      <td>0.369532</td>\n",
              "      <td>1</td>\n",
              "      <td>0</td>\n",
              "    </tr>\n",
              "    <tr>\n",
              "      <th>5</th>\n",
              "      <td>0</td>\n",
              "      <td>0.540665</td>\n",
              "      <td>0.582447</td>\n",
              "      <td>1</td>\n",
              "      <td>1</td>\n",
              "    </tr>\n",
              "    <tr>\n",
              "      <th>6</th>\n",
              "      <td>0</td>\n",
              "      <td>0.333361</td>\n",
              "      <td>0.376542</td>\n",
              "      <td>0</td>\n",
              "      <td>0</td>\n",
              "    </tr>\n",
              "    <tr>\n",
              "      <th>7</th>\n",
              "      <td>0</td>\n",
              "      <td>0.309166</td>\n",
              "      <td>0.287872</td>\n",
              "      <td>0</td>\n",
              "      <td>0</td>\n",
              "    </tr>\n",
              "    <tr>\n",
              "      <th>8</th>\n",
              "      <td>0</td>\n",
              "      <td>0.532531</td>\n",
              "      <td>0.524141</td>\n",
              "      <td>1</td>\n",
              "      <td>1</td>\n",
              "    </tr>\n",
              "    <tr>\n",
              "      <th>9</th>\n",
              "      <td>0</td>\n",
              "      <td>0.423434</td>\n",
              "      <td>0.435693</td>\n",
              "      <td>1</td>\n",
              "      <td>1</td>\n",
              "    </tr>\n",
              "  </tbody>\n",
              "</table>\n",
              "</div>"
            ],
            "text/plain": [
              "   y_act  y_pred_random_forest  y_pred_logistic  y_pred_rf  y_pred_lr\n",
              "0      1              0.639816         0.531904          1          1\n",
              "1      0              0.490993         0.414496          1          1\n",
              "2      1              0.623815         0.569883          1          1\n",
              "3      1              0.506616         0.443674          1          1\n",
              "4      0              0.418302         0.369532          1          0\n",
              "5      0              0.540665         0.582447          1          1\n",
              "6      0              0.333361         0.376542          0          0\n",
              "7      0              0.309166         0.287872          0          0\n",
              "8      0              0.532531         0.524141          1          1\n",
              "9      0              0.423434         0.435693          1          1"
            ]
          },
          "metadata": {
            "tags": []
          },
          "execution_count": 6
        }
      ]
    },
    {
      "cell_type": "code",
      "metadata": {
        "colab": {
          "base_uri": "https://localhost:8080/"
        },
        "id": "XC3FbRO4MRfY",
        "outputId": "371e9729-41e2-40fc-8540-89ac73658796"
      },
      "source": [
        "data.shape"
      ],
      "execution_count": null,
      "outputs": [
        {
          "output_type": "execute_result",
          "data": {
            "text/plain": [
              "(15758, 5)"
            ]
          },
          "metadata": {
            "tags": []
          },
          "execution_count": 7
        }
      ]
    },
    {
      "cell_type": "code",
      "metadata": {
        "colab": {
          "base_uri": "https://localhost:8080/",
          "height": 136
        },
        "id": "SNSS3uQNMW8p",
        "outputId": "da95dbf1-bca1-4e42-bae8-484ac196903d"
      },
      "source": [
        "confusion_matrix_lr = pd.crosstab(data['y_act'], data['y_pred_lr'], \r\n",
        "                                  rownames=['Actual'], colnames=['Predicted'])\r\n",
        "confusion_matrix_lr"
      ],
      "execution_count": null,
      "outputs": [
        {
          "output_type": "execute_result",
          "data": {
            "text/html": [
              "<div>\n",
              "<style scoped>\n",
              "    .dataframe tbody tr th:only-of-type {\n",
              "        vertical-align: middle;\n",
              "    }\n",
              "\n",
              "    .dataframe tbody tr th {\n",
              "        vertical-align: top;\n",
              "    }\n",
              "\n",
              "    .dataframe thead th {\n",
              "        text-align: right;\n",
              "    }\n",
              "</style>\n",
              "<table border=\"1\" class=\"dataframe\">\n",
              "  <thead>\n",
              "    <tr style=\"text-align: right;\">\n",
              "      <th>Predicted</th>\n",
              "      <th>0</th>\n",
              "      <th>1</th>\n",
              "    </tr>\n",
              "    <tr>\n",
              "      <th>Actual</th>\n",
              "      <th></th>\n",
              "      <th></th>\n",
              "    </tr>\n",
              "  </thead>\n",
              "  <tbody>\n",
              "    <tr>\n",
              "      <th>0</th>\n",
              "      <td>2862</td>\n",
              "      <td>5017</td>\n",
              "    </tr>\n",
              "    <tr>\n",
              "      <th>1</th>\n",
              "      <td>1344</td>\n",
              "      <td>6535</td>\n",
              "    </tr>\n",
              "  </tbody>\n",
              "</table>\n",
              "</div>"
            ],
            "text/plain": [
              "Predicted     0     1\n",
              "Actual               \n",
              "0          2862  5017\n",
              "1          1344  6535"
            ]
          },
          "metadata": {
            "tags": []
          },
          "execution_count": 8
        }
      ]
    },
    {
      "cell_type": "code",
      "metadata": {
        "colab": {
          "base_uri": "https://localhost:8080/",
          "height": 136
        },
        "id": "vVncuj-xMkPJ",
        "outputId": "a3a34057-bd75-4c61-fa8b-94d131f282a6"
      },
      "source": [
        "confusion_matrix_rf = pd.crosstab(data['y_act'], data['y_pred_rf'], \r\n",
        "                                  rownames=['Actual'], colnames=['Predicted'])\r\n",
        "confusion_matrix_rf"
      ],
      "execution_count": null,
      "outputs": [
        {
          "output_type": "execute_result",
          "data": {
            "text/html": [
              "<div>\n",
              "<style scoped>\n",
              "    .dataframe tbody tr th:only-of-type {\n",
              "        vertical-align: middle;\n",
              "    }\n",
              "\n",
              "    .dataframe tbody tr th {\n",
              "        vertical-align: top;\n",
              "    }\n",
              "\n",
              "    .dataframe thead th {\n",
              "        text-align: right;\n",
              "    }\n",
              "</style>\n",
              "<table border=\"1\" class=\"dataframe\">\n",
              "  <thead>\n",
              "    <tr style=\"text-align: right;\">\n",
              "      <th>Predicted</th>\n",
              "      <th>0</th>\n",
              "      <th>1</th>\n",
              "    </tr>\n",
              "    <tr>\n",
              "      <th>Actual</th>\n",
              "      <th></th>\n",
              "      <th></th>\n",
              "    </tr>\n",
              "  </thead>\n",
              "  <tbody>\n",
              "    <tr>\n",
              "      <th>0</th>\n",
              "      <td>1930</td>\n",
              "      <td>5949</td>\n",
              "    </tr>\n",
              "    <tr>\n",
              "      <th>1</th>\n",
              "      <td>468</td>\n",
              "      <td>7411</td>\n",
              "    </tr>\n",
              "  </tbody>\n",
              "</table>\n",
              "</div>"
            ],
            "text/plain": [
              "Predicted     0     1\n",
              "Actual               \n",
              "0          1930  5949\n",
              "1           468  7411"
            ]
          },
          "metadata": {
            "tags": []
          },
          "execution_count": 11
        }
      ]
    },
    {
      "cell_type": "code",
      "metadata": {
        "id": "T_ChjR5FQfzu"
      },
      "source": [
        ""
      ],
      "execution_count": null,
      "outputs": []
    },
    {
      "cell_type": "code",
      "metadata": {
        "id": "NbQ9xG4YQk6n"
      },
      "source": [
        ""
      ],
      "execution_count": null,
      "outputs": []
    },
    {
      "cell_type": "code",
      "metadata": {
        "id": "Fd6jEpF9QksM"
      },
      "source": [
        ""
      ],
      "execution_count": null,
      "outputs": []
    },
    {
      "cell_type": "code",
      "metadata": {
        "id": "UYN9cafYQj_W"
      },
      "source": [
        ""
      ],
      "execution_count": null,
      "outputs": []
    },
    {
      "cell_type": "code",
      "metadata": {
        "id": "ThcmHHabQfj9"
      },
      "source": [
        ""
      ],
      "execution_count": null,
      "outputs": []
    },
    {
      "cell_type": "code",
      "metadata": {
        "id": "oW-qpdUQQfUW"
      },
      "source": [
        ""
      ],
      "execution_count": null,
      "outputs": []
    },
    {
      "cell_type": "code",
      "metadata": {
        "id": "nFKWwhe4QfET"
      },
      "source": [
        ""
      ],
      "execution_count": null,
      "outputs": []
    },
    {
      "cell_type": "code",
      "metadata": {
        "colab": {
          "base_uri": "https://localhost:8080/",
          "height": 279
        },
        "id": "JOkCqPgeMqS5",
        "outputId": "572a01a1-4a20-46d8-e0d7-faaba8f19874"
      },
      "source": [
        "import seaborn as sn\r\n",
        "import matplotlib.pyplot as plt\r\n",
        "                         \r\n",
        "sn.heatmap(confusion_matrix_rf, annot=True)\r\n",
        "\r\n",
        "plt.show()"
      ],
      "execution_count": null,
      "outputs": [
        {
          "output_type": "display_data",
          "data": {
            "image/png": "[encoded data removed]",
            "text/plain": [
              "<Figure size 432x288 with 2 Axes>"
            ]
          },
          "metadata": {
            "tags": [],
            "needs_background": "light"
          }
        }
      ]
    },
    {
      "cell_type": "code",
      "metadata": {
        "colab": {
          "base_uri": "https://localhost:8080/",
          "height": 279
        },
        "id": "44t997gSNH4r",
        "outputId": "bcd69e46-93e3-457f-b06e-e23d54bbe1d3"
      },
      "source": [
        "sn.heatmap(confusion_matrix_lr, annot=True)\r\n",
        "\r\n",
        "plt.show()"
      ],
      "execution_count": null,
      "outputs": [
        {
          "output_type": "display_data",
          "data": {
            "image/png": "[encoded data removed]",
            "text/plain": [
              "<Figure size 432x288 with 2 Axes>"
            ]
          },
          "metadata": {
            "tags": [],
            "needs_background": "light"
          }
        }
      ]
    },
    {
      "cell_type": "code",
      "metadata": {
        "id": "XFnLgG61NQ15"
      },
      "source": [
        "def compute_tp_tn_fn_fp(y_act, y_pred):\r\n",
        "\ttp = sum((y_act == 1) & (y_pred == 1))\r\n",
        "\ttn = sum((y_act == 0) & (y_pred == 0))\r\n",
        "\tfn = sum((y_act == 1) & (y_pred == 0))\r\n",
        "\tfp = sum((y_act == 0) & (y_pred == 1))\r\n",
        "\treturn tp, tn, fp, fn"
      ],
      "execution_count": null,
      "outputs": []
    },
    {
      "cell_type": "code",
      "metadata": {
        "id": "v6lI6uAuRiI_"
      },
      "source": [
        ""
      ],
      "execution_count": null,
      "outputs": []
    },
    {
      "cell_type": "code",
      "metadata": {
        "colab": {
          "base_uri": "https://localhost:8080/"
        },
        "id": "E3kLRkfuNqR9",
        "outputId": "971389b0-b40a-42cb-8bf4-ca7fb31b1dd2"
      },
      "source": [
        "tp_lr, tn_lr, fp_lr, fn_lr = compute_tp_tn_fn_fp(data.y_act, data.y_pred_lr)\r\n",
        "print('TP for Logistic Reg :', tp_lr)\r\n",
        "print('TN for Logistic Reg :', tn_lr)\r\n",
        "print('FP for Logistic Reg :', fp_lr)\r\n",
        "print('FN for Logistic Reg :', fn_lr)"
      ],
      "execution_count": null,
      "outputs": [
        {
          "output_type": "stream",
          "text": [
            "TP for Logistic Reg : 6535\n",
            "TN for Logistic Reg : 2862\n",
            "FP for Logistic Reg : 5017\n",
            "FN for Logistic Reg : 1344\n"
          ],
          "name": "stdout"
        }
      ]
    },
    {
      "cell_type": "code",
      "metadata": {
        "colab": {
          "base_uri": "https://localhost:8080/"
        },
        "id": "hPVRVzcqNsXY",
        "outputId": "1f0e6502-7be5-4c84-a8cd-b5b24f09f159"
      },
      "source": [
        "tp_rf, tn_rf, fp_rf, fn_rf = compute_tp_tn_fn_fp(data.y_act, data.y_pred_rf)\r\n",
        "print('TP for Random Forest :', tp_rf)\r\n",
        "print('TN for Random Forest :', tn_rf)\r\n",
        "print('FP for Random Forest :', fp_rf)\r\n",
        "print('FN for Random Forest :', fn_rf)\r\n"
      ],
      "execution_count": null,
      "outputs": [
        {
          "output_type": "stream",
          "text": [
            "TP for Random Forest : 7411\n",
            "TN for Random Forest : 1930\n",
            "FP for Random Forest : 5949\n",
            "FN for Random Forest : 468\n"
          ],
          "name": "stdout"
        }
      ]
    },
    {
      "cell_type": "code",
      "metadata": {
        "colab": {
          "base_uri": "https://localhost:8080/"
        },
        "id": "_scM9i5wOKvz",
        "outputId": "fe9341a2-662d-44e9-b30a-d7e14cd8e50b"
      },
      "source": [
        "def compute_accuracy(tp, tn, fn, fp):\r\n",
        "\treturn ((tp + tn) * 100)/ float( tp + tn + fn + fp)\r\n",
        " \r\n",
        "print('Accuracy for Logistic Regression :', \r\n",
        "      compute_accuracy(tp_lr, tn_lr, fn_lr, fp_lr))\r\n",
        "print('Accuracy for Random Forest :', \r\n",
        "      compute_accuracy(tp_rf, tn_rf, fn_rf, fp_rf))"
      ],
      "execution_count": null,
      "outputs": [
        {
          "output_type": "stream",
          "text": [
            "Accuracy for Logistic Regression : 59.63320218301815\n",
            "Accuracy for Random Forest : 59.27782713542328\n"
          ],
          "name": "stdout"
        }
      ]
    },
    {
      "cell_type": "code",
      "metadata": {
        "colab": {
          "base_uri": "https://localhost:8080/"
        },
        "id": "kbjG1D8IO7KP",
        "outputId": "603704fe-a406-4d41-bd5d-72847a4fd0f6"
      },
      "source": [
        "def compute_precision(tp, fp):\r\n",
        "\treturn (tp  * 100)/ float( tp + fp)\r\n",
        " \r\n",
        "print('Precision for Logistic Regression :', \r\n",
        "      compute_precision(tp_lr, fp_lr))\r\n",
        "print('Precision for Random Forest :', \r\n",
        "      compute_precision(tp_rf, fp_rf))"
      ],
      "execution_count": null,
      "outputs": [
        {
          "output_type": "stream",
          "text": [
            "Precision for Logistic Regression : 56.57029085872576\n",
            "Precision for Random Forest : 55.471556886227546\n"
          ],
          "name": "stdout"
        }
      ]
    },
    {
      "cell_type": "code",
      "metadata": {
        "colab": {
          "base_uri": "https://localhost:8080/"
        },
        "id": "L4-ONMChPAqr",
        "outputId": "1435b5fb-a7ed-4521-9910-e2bb9258a63d"
      },
      "source": [
        "def compute_recall(tp, fn):\r\n",
        "\treturn (tp  * 100)/ float( tp + fn)\r\n",
        "\r\n",
        "print('Recall for Logistic Regression :', \r\n",
        "      compute_recall(tp_lr, fn_lr))\r\n",
        "print('Recall for Random Forest :',\r\n",
        "      compute_recall(tp_rf, fn_rf))"
      ],
      "execution_count": null,
      "outputs": [
        {
          "output_type": "stream",
          "text": [
            "Recall for Logistic Regression : 82.94199771544612\n",
            "Recall for Random Forest : 94.06015991877142\n"
          ],
          "name": "stdout"
        }
      ]
    },
    {
      "cell_type": "code",
      "metadata": {
        "colab": {
          "base_uri": "https://localhost:8080/"
        },
        "id": "QpnyFv6jPH95",
        "outputId": "756ad256-6f9a-4680-eab7-575d1aeb5c20"
      },
      "source": [
        "def compute_f1_score(y_true, y_pred):\r\n",
        "    # calculates the F1 score\r\n",
        "    tp, tn, fp, fn = compute_tp_tn_fn_fp(y_true, y_pred)\r\n",
        "    precision = compute_precision(tp, fp)/100\r\n",
        "    recall = compute_recall(tp, fn)/100\r\n",
        "    f1_score = (2*precision*recall)/ (precision + recall)\r\n",
        "    return f1_score\r\n",
        "\r\n",
        "print('F1 score for Logistic Regression :', \r\n",
        "      compute_f1_score(data.y_act, data.y_pred_lr))\r\n",
        "print('F1 score for Random Forest :', \r\n",
        "      compute_f1_score(data.y_act, data.y_pred_rf))"
      ],
      "execution_count": null,
      "outputs": [
        {
          "output_type": "stream",
          "text": [
            "F1 score for Logistic Regression : 0.6726365086717101\n",
            "F1 score for Random Forest : 0.6978671312208673\n"
          ],
          "name": "stdout"
        }
      ]
    }
  ]
}
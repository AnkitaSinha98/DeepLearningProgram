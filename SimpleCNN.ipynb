{
  "nbformat": 4,
  "nbformat_minor": 0,
  "metadata": {
    "colab": {
      "name": "SimpleCNN.ipynb",
      "provenance": [],
      "collapsed_sections": [],
      "authorship_tag": "ABX9TyO9gQ53vpd33oQRzHdZhon+",
      "include_colab_link": true
    },
    "kernelspec": {
      "name": "python3",
      "display_name": "Python 3"
    },
    "language_info": {
      "name": "python"
    }
  },
  "cells": [
    {
      "cell_type": "markdown",
      "metadata": {
        "id": "view-in-github",
        "colab_type": "text"
      },
      "source": [
        "<a href=\"https://colab.research.google.com/github/AnkitaSinha98/DeepLearningProgram/blob/main/SimpleCNN.ipynb\" target=\"_parent\"><img src=\"https://colab.research.google.com/assets/colab-badge.svg\" alt=\"Open In Colab\"/></a>"
      ]
    },
    {
      "cell_type": "code",
      "metadata": {
        "id": "tOrs_eL_FAxd"
      },
      "source": [
        "import keras\n",
        "from keras.datasets import mnist\n",
        "from keras.models import Sequential\n",
        "from keras.layers import Dense, Dropout, Flatten\n",
        "from keras.layers import Conv2D, MaxPooling2D\n",
        "import numpy as np"
      ],
      "execution_count": null,
      "outputs": []
    },
    {
      "cell_type": "code",
      "metadata": {
        "colab": {
          "base_uri": "https://localhost:8080/"
        },
        "id": "jYNNoxWKFSjR",
        "outputId": "c66dd366-0437-417b-81b7-824a8696c2dc"
      },
      "source": [
        "batch_size = 128\n",
        "num_classes = 10\n",
        "epochs = 12\n",
        "\n",
        "# input image dimensions\n",
        "img_rows, img_cols = 28, 28\n",
        "\n",
        "# the data, split between train and test sets\n",
        "(x_train, y_train), (x_test, y_test) = mnist.load_data()\n",
        "\n",
        "x_train = x_train.reshape(60000,28,28,1)\n",
        "x_test = x_test.reshape(10000,28,28,1)\n",
        "\n",
        "print('x_train shape:', x_train.shape)\n",
        "print(x_train.shape[0], 'train samples')\n",
        "print(x_test.shape[0], 'test samples')\n",
        "\n",
        "# convert class vectors to binary class matrices\n",
        "y_train = keras.utils.to_categorical(y_train, num_classes)\n",
        "y_test = keras.utils.to_categorical(y_test, num_classes)"
      ],
      "execution_count": null,
      "outputs": [
        {
          "output_type": "stream",
          "text": [
            "Downloading data from https://storage.googleapis.com/tensorflow/tf-keras-datasets/mnist.npz\n",
            "11493376/11490434 [==============================] - 0s 0us/step\n",
            "x_train shape: (60000, 28, 28, 1)\n",
            "60000 train samples\n",
            "10000 test samples\n"
          ],
          "name": "stdout"
        }
      ]
    },
    {
      "cell_type": "code",
      "metadata": {
        "id": "MV1OLe8XJqbA"
      },
      "source": [
        "model = Sequential()\n",
        "model.add(Conv2D(32, kernel_size=(3, 3),\n",
        "                 activation='relu',\n",
        "                 input_shape=(28,28,1)))\n",
        "model.add(Conv2D(64, (3, 3), activation='relu'))\n",
        "model.add(MaxPooling2D(pool_size=(2, 2)))\n",
        "model.add(Dropout(0.25))\n",
        "model.add(Flatten())\n",
        "model.add(Dense(128, activation='relu'))\n",
        "model.add(Dropout(0.5))\n",
        "model.add(Dense(num_classes, activation='softmax'))"
      ],
      "execution_count": null,
      "outputs": []
    },
    {
      "cell_type": "code",
      "metadata": {
        "colab": {
          "base_uri": "https://localhost:8080/"
        },
        "id": "ZjzW2dU5RCLn",
        "outputId": "d324f7d1-4b44-403e-d3a1-12381c6b1d94"
      },
      "source": [
        "model.compile(loss=keras.losses.categorical_crossentropy, optimizer=keras.optimizers.Adadelta(),metrics=['accuracy'])\n",
        "\n",
        "model.fit(x_train, y_train,batch_size=batch_size,epochs=epochs,verbose=1,validation_data=(x_test, y_test))\n",
        "score = model.evaluate(x_test, y_test, verbose=0)\n",
        "print('Test loss:', score[0])\n",
        "print('Test accuracy:', score[1])"
      ],
      "execution_count": null,
      "outputs": [
        {
          "output_type": "stream",
          "text": [
            "Epoch 1/12\n",
            "469/469 [==============================] - 134s 283ms/step - loss: 39.7217 - accuracy: 0.1085 - val_loss: 5.5117 - val_accuracy: 0.3616\n",
            "Epoch 2/12\n",
            "469/469 [==============================] - 134s 285ms/step - loss: 16.9278 - accuracy: 0.2162 - val_loss: 2.0863 - val_accuracy: 0.5886\n",
            "Epoch 3/12\n",
            "469/469 [==============================] - 133s 284ms/step - loss: 8.6848 - accuracy: 0.2976 - val_loss: 1.3830 - val_accuracy: 0.5980\n",
            "Epoch 4/12\n",
            "469/469 [==============================] - 133s 283ms/step - loss: 4.9548 - accuracy: 0.3335 - val_loss: 1.4045 - val_accuracy: 0.5434\n",
            "Epoch 5/12\n",
            "469/469 [==============================] - 134s 285ms/step - loss: 3.3000 - accuracy: 0.3334 - val_loss: 1.5787 - val_accuracy: 0.4784\n",
            "Epoch 6/12\n",
            "469/469 [==============================] - 133s 283ms/step - loss: 2.5567 - accuracy: 0.3293 - val_loss: 1.6744 - val_accuracy: 0.4822\n",
            "Epoch 7/12\n",
            "469/469 [==============================] - 132s 282ms/step - loss: 2.2598 - accuracy: 0.3425 - val_loss: 1.6956 - val_accuracy: 0.4790\n",
            "Epoch 8/12\n",
            "469/469 [==============================] - 131s 280ms/step - loss: 2.1013 - accuracy: 0.3567 - val_loss: 1.6572 - val_accuracy: 0.4927\n",
            "Epoch 9/12\n",
            "469/469 [==============================] - 131s 280ms/step - loss: 2.0203 - accuracy: 0.3667 - val_loss: 1.6053 - val_accuracy: 0.5145\n",
            "Epoch 10/12\n",
            "469/469 [==============================] - 131s 280ms/step - loss: 1.9315 - accuracy: 0.3828 - val_loss: 1.5327 - val_accuracy: 0.5407\n",
            "Epoch 11/12\n",
            "469/469 [==============================] - 131s 280ms/step - loss: 1.8657 - accuracy: 0.4058 - val_loss: 1.4626 - val_accuracy: 0.5658\n",
            "Epoch 12/12\n",
            "469/469 [==============================] - 131s 279ms/step - loss: 1.8274 - accuracy: 0.4231 - val_loss: 1.3976 - val_accuracy: 0.5868\n",
            "Test loss: 1.397642970085144\n",
            "Test accuracy: 0.5867999792098999\n"
          ],
          "name": "stdout"
        }
      ]
    }
  ]
}